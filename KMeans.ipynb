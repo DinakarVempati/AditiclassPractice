{
 "cells": [
  {
   "cell_type": "markdown",
   "metadata": {},
   "source": [
    "In this project, we'll build a k-means clustering algorithm from scratch. Clustering is an unsupervised machine learning technique that can find patterns in your data. K-means is one of the most popular forms of clustering.\n",
    "\n",
    "We'll create our algorithm using python and pandas. We'll then compare it to the reference implementation from scikit-learn.\n",
    "\n",
    "Project Steps:\n",
    "\n",
    "1.Write out pseudocode for the algorithm\n",
    "\n",
    "2.Code the k-means algorithm\n",
    "\n",
    "3.Plot the clusters from the algorithm\n",
    "\n",
    "4.Compare performance to the scikit-learn algorithm"
   ]
  },
  {
   "cell_type": "markdown",
   "metadata": {},
   "source": [
    "**Overview of K-means**\n",
    "K-means is an unsupervised machine learning technique that allow us to cluster data points. This enables us to find patterns in the data that can help us analyze it more effectively. K-means is an iterative algorithm, which means that it will converge to the optimal clustering over time.\n",
    "\n",
    "To run a k-means clustering:\n",
    "\n",
    "1.Specify the number of clusters you want (usually referred to as k).\n",
    "2.Randomly initialize the centroid for each cluster. The centroid is the data point that is in the center of the cluster.\n",
    "3.Determine which data points belong to which cluster by finding the closest centroid to each data point.\n",
    "4.Update the centroids based on the geometric mean of all the data points in the cluster.\n",
    "5.Run 3 and 4 until the centroids stop changing. Each run is referred to as an iteration."
   ]
  },
  {
   "cell_type": "markdown",
   "metadata": {},
   "source": [
    "We'll be using data from 'https://www.kaggle.com/datasets/stefanoleone992/fifa-22-complete-player-dataset'"
   ]
  },
  {
   "cell_type": "code",
   "execution_count": 1,
   "metadata": {},
   "outputs": [],
   "source": [
    "import pandas as pd\n",
    "import numpy as np"
   ]
  },
  {
   "cell_type": "code",
   "execution_count": 2,
   "metadata": {},
   "outputs": [
    {
     "name": "stderr",
     "output_type": "stream",
     "text": [
      "/Users/dinakar/anaconda2/lib/python2.7/site-packages/IPython/core/interactiveshell.py:2714: DtypeWarning: Columns (25,108) have mixed types. Specify dtype option on import or set low_memory=False.\n",
      "  interactivity=interactivity, compiler=compiler, result=result)\n"
     ]
    }
   ],
   "source": [
    "players=pd.read_csv('/Users/dinakar/Downloads/EA sports FIFA22 player data/players_22.csv')"
   ]
  },
  {
   "cell_type": "code",
   "execution_count": 3,
   "metadata": {},
   "outputs": [
    {
     "data": {
      "text/html": [
       "<div>\n",
       "<style scoped>\n",
       "    .dataframe tbody tr th:only-of-type {\n",
       "        vertical-align: middle;\n",
       "    }\n",
       "\n",
       "    .dataframe tbody tr th {\n",
       "        vertical-align: top;\n",
       "    }\n",
       "\n",
       "    .dataframe thead th {\n",
       "        text-align: right;\n",
       "    }\n",
       "</style>\n",
       "<table border=\"1\" class=\"dataframe\">\n",
       "  <thead>\n",
       "    <tr style=\"text-align: right;\">\n",
       "      <th></th>\n",
       "      <th>sofifa_id</th>\n",
       "      <th>player_url</th>\n",
       "      <th>short_name</th>\n",
       "      <th>long_name</th>\n",
       "      <th>player_positions</th>\n",
       "      <th>overall</th>\n",
       "      <th>potential</th>\n",
       "      <th>value_eur</th>\n",
       "      <th>wage_eur</th>\n",
       "      <th>age</th>\n",
       "      <th>...</th>\n",
       "      <th>lcb</th>\n",
       "      <th>cb</th>\n",
       "      <th>rcb</th>\n",
       "      <th>rb</th>\n",
       "      <th>gk</th>\n",
       "      <th>player_face_url</th>\n",
       "      <th>club_logo_url</th>\n",
       "      <th>club_flag_url</th>\n",
       "      <th>nation_logo_url</th>\n",
       "      <th>nation_flag_url</th>\n",
       "    </tr>\n",
       "  </thead>\n",
       "  <tbody>\n",
       "    <tr>\n",
       "      <th>0</th>\n",
       "      <td>158023</td>\n",
       "      <td>https://sofifa.com/player/158023/lionel-messi/...</td>\n",
       "      <td>L. Messi</td>\n",
       "      <td>Lionel Andrés Messi Cuccittini</td>\n",
       "      <td>RW, ST, CF</td>\n",
       "      <td>93</td>\n",
       "      <td>93</td>\n",
       "      <td>78000000.0</td>\n",
       "      <td>320000.0</td>\n",
       "      <td>34</td>\n",
       "      <td>...</td>\n",
       "      <td>50+3</td>\n",
       "      <td>50+3</td>\n",
       "      <td>50+3</td>\n",
       "      <td>61+3</td>\n",
       "      <td>19+3</td>\n",
       "      <td>https://cdn.sofifa.net/players/158/023/22_120.png</td>\n",
       "      <td>https://cdn.sofifa.net/teams/73/60.png</td>\n",
       "      <td>https://cdn.sofifa.net/flags/fr.png</td>\n",
       "      <td>https://cdn.sofifa.net/teams/1369/60.png</td>\n",
       "      <td>https://cdn.sofifa.net/flags/ar.png</td>\n",
       "    </tr>\n",
       "    <tr>\n",
       "      <th>1</th>\n",
       "      <td>188545</td>\n",
       "      <td>https://sofifa.com/player/188545/robert-lewand...</td>\n",
       "      <td>R. Lewandowski</td>\n",
       "      <td>Robert Lewandowski</td>\n",
       "      <td>ST</td>\n",
       "      <td>92</td>\n",
       "      <td>92</td>\n",
       "      <td>119500000.0</td>\n",
       "      <td>270000.0</td>\n",
       "      <td>32</td>\n",
       "      <td>...</td>\n",
       "      <td>60+3</td>\n",
       "      <td>60+3</td>\n",
       "      <td>60+3</td>\n",
       "      <td>61+3</td>\n",
       "      <td>19+3</td>\n",
       "      <td>https://cdn.sofifa.net/players/188/545/22_120.png</td>\n",
       "      <td>https://cdn.sofifa.net/teams/21/60.png</td>\n",
       "      <td>https://cdn.sofifa.net/flags/de.png</td>\n",
       "      <td>https://cdn.sofifa.net/teams/1353/60.png</td>\n",
       "      <td>https://cdn.sofifa.net/flags/pl.png</td>\n",
       "    </tr>\n",
       "    <tr>\n",
       "      <th>2</th>\n",
       "      <td>20801</td>\n",
       "      <td>https://sofifa.com/player/20801/c-ronaldo-dos-...</td>\n",
       "      <td>Cristiano Ronaldo</td>\n",
       "      <td>Cristiano Ronaldo dos Santos Aveiro</td>\n",
       "      <td>ST, LW</td>\n",
       "      <td>91</td>\n",
       "      <td>91</td>\n",
       "      <td>45000000.0</td>\n",
       "      <td>270000.0</td>\n",
       "      <td>36</td>\n",
       "      <td>...</td>\n",
       "      <td>53+3</td>\n",
       "      <td>53+3</td>\n",
       "      <td>53+3</td>\n",
       "      <td>60+3</td>\n",
       "      <td>20+3</td>\n",
       "      <td>https://cdn.sofifa.net/players/020/801/22_120.png</td>\n",
       "      <td>https://cdn.sofifa.net/teams/11/60.png</td>\n",
       "      <td>https://cdn.sofifa.net/flags/gb-eng.png</td>\n",
       "      <td>https://cdn.sofifa.net/teams/1354/60.png</td>\n",
       "      <td>https://cdn.sofifa.net/flags/pt.png</td>\n",
       "    </tr>\n",
       "    <tr>\n",
       "      <th>3</th>\n",
       "      <td>190871</td>\n",
       "      <td>https://sofifa.com/player/190871/neymar-da-sil...</td>\n",
       "      <td>Neymar Jr</td>\n",
       "      <td>Neymar da Silva Santos Júnior</td>\n",
       "      <td>LW, CAM</td>\n",
       "      <td>91</td>\n",
       "      <td>91</td>\n",
       "      <td>129000000.0</td>\n",
       "      <td>270000.0</td>\n",
       "      <td>29</td>\n",
       "      <td>...</td>\n",
       "      <td>50+3</td>\n",
       "      <td>50+3</td>\n",
       "      <td>50+3</td>\n",
       "      <td>62+3</td>\n",
       "      <td>20+3</td>\n",
       "      <td>https://cdn.sofifa.net/players/190/871/22_120.png</td>\n",
       "      <td>https://cdn.sofifa.net/teams/73/60.png</td>\n",
       "      <td>https://cdn.sofifa.net/flags/fr.png</td>\n",
       "      <td>NaN</td>\n",
       "      <td>https://cdn.sofifa.net/flags/br.png</td>\n",
       "    </tr>\n",
       "    <tr>\n",
       "      <th>4</th>\n",
       "      <td>192985</td>\n",
       "      <td>https://sofifa.com/player/192985/kevin-de-bruy...</td>\n",
       "      <td>K. De Bruyne</td>\n",
       "      <td>Kevin De Bruyne</td>\n",
       "      <td>CM, CAM</td>\n",
       "      <td>91</td>\n",
       "      <td>91</td>\n",
       "      <td>125500000.0</td>\n",
       "      <td>350000.0</td>\n",
       "      <td>30</td>\n",
       "      <td>...</td>\n",
       "      <td>69+3</td>\n",
       "      <td>69+3</td>\n",
       "      <td>69+3</td>\n",
       "      <td>75+3</td>\n",
       "      <td>21+3</td>\n",
       "      <td>https://cdn.sofifa.net/players/192/985/22_120.png</td>\n",
       "      <td>https://cdn.sofifa.net/teams/10/60.png</td>\n",
       "      <td>https://cdn.sofifa.net/flags/gb-eng.png</td>\n",
       "      <td>https://cdn.sofifa.net/teams/1325/60.png</td>\n",
       "      <td>https://cdn.sofifa.net/flags/be.png</td>\n",
       "    </tr>\n",
       "  </tbody>\n",
       "</table>\n",
       "<p>5 rows × 110 columns</p>\n",
       "</div>"
      ],
      "text/plain": [
       "   sofifa_id                                         player_url  \\\n",
       "0     158023  https://sofifa.com/player/158023/lionel-messi/...   \n",
       "1     188545  https://sofifa.com/player/188545/robert-lewand...   \n",
       "2      20801  https://sofifa.com/player/20801/c-ronaldo-dos-...   \n",
       "3     190871  https://sofifa.com/player/190871/neymar-da-sil...   \n",
       "4     192985  https://sofifa.com/player/192985/kevin-de-bruy...   \n",
       "\n",
       "          short_name                            long_name player_positions  \\\n",
       "0           L. Messi       Lionel Andrés Messi Cuccittini       RW, ST, CF   \n",
       "1     R. Lewandowski                   Robert Lewandowski               ST   \n",
       "2  Cristiano Ronaldo  Cristiano Ronaldo dos Santos Aveiro           ST, LW   \n",
       "3          Neymar Jr        Neymar da Silva Santos Júnior          LW, CAM   \n",
       "4       K. De Bruyne                      Kevin De Bruyne          CM, CAM   \n",
       "\n",
       "   overall  potential    value_eur  wage_eur  age  ...   lcb    cb   rcb  \\\n",
       "0       93         93   78000000.0  320000.0   34  ...  50+3  50+3  50+3   \n",
       "1       92         92  119500000.0  270000.0   32  ...  60+3  60+3  60+3   \n",
       "2       91         91   45000000.0  270000.0   36  ...  53+3  53+3  53+3   \n",
       "3       91         91  129000000.0  270000.0   29  ...  50+3  50+3  50+3   \n",
       "4       91         91  125500000.0  350000.0   30  ...  69+3  69+3  69+3   \n",
       "\n",
       "     rb    gk                                    player_face_url  \\\n",
       "0  61+3  19+3  https://cdn.sofifa.net/players/158/023/22_120.png   \n",
       "1  61+3  19+3  https://cdn.sofifa.net/players/188/545/22_120.png   \n",
       "2  60+3  20+3  https://cdn.sofifa.net/players/020/801/22_120.png   \n",
       "3  62+3  20+3  https://cdn.sofifa.net/players/190/871/22_120.png   \n",
       "4  75+3  21+3  https://cdn.sofifa.net/players/192/985/22_120.png   \n",
       "\n",
       "                            club_logo_url  \\\n",
       "0  https://cdn.sofifa.net/teams/73/60.png   \n",
       "1  https://cdn.sofifa.net/teams/21/60.png   \n",
       "2  https://cdn.sofifa.net/teams/11/60.png   \n",
       "3  https://cdn.sofifa.net/teams/73/60.png   \n",
       "4  https://cdn.sofifa.net/teams/10/60.png   \n",
       "\n",
       "                             club_flag_url  \\\n",
       "0      https://cdn.sofifa.net/flags/fr.png   \n",
       "1      https://cdn.sofifa.net/flags/de.png   \n",
       "2  https://cdn.sofifa.net/flags/gb-eng.png   \n",
       "3      https://cdn.sofifa.net/flags/fr.png   \n",
       "4  https://cdn.sofifa.net/flags/gb-eng.png   \n",
       "\n",
       "                            nation_logo_url  \\\n",
       "0  https://cdn.sofifa.net/teams/1369/60.png   \n",
       "1  https://cdn.sofifa.net/teams/1353/60.png   \n",
       "2  https://cdn.sofifa.net/teams/1354/60.png   \n",
       "3                                       NaN   \n",
       "4  https://cdn.sofifa.net/teams/1325/60.png   \n",
       "\n",
       "                       nation_flag_url  \n",
       "0  https://cdn.sofifa.net/flags/ar.png  \n",
       "1  https://cdn.sofifa.net/flags/pl.png  \n",
       "2  https://cdn.sofifa.net/flags/pt.png  \n",
       "3  https://cdn.sofifa.net/flags/br.png  \n",
       "4  https://cdn.sofifa.net/flags/be.png  \n",
       "\n",
       "[5 rows x 110 columns]"
      ]
     },
     "execution_count": 3,
     "metadata": {},
     "output_type": "execute_result"
    }
   ],
   "source": [
    "players.head()"
   ]
  },
  {
   "cell_type": "code",
   "execution_count": 4,
   "metadata": {},
   "outputs": [],
   "source": [
    "features = [\"overall\", \"potential\", \"wage_eur\", \"value_eur\", \"age\"]"
   ]
  },
  {
   "cell_type": "code",
   "execution_count": 5,
   "metadata": {},
   "outputs": [],
   "source": [
    "players = players.dropna(subset=features)"
   ]
  },
  {
   "cell_type": "code",
   "execution_count": 6,
   "metadata": {},
   "outputs": [],
   "source": [
    "data = players[features].copy()"
   ]
  },
  {
   "cell_type": "code",
   "execution_count": 11,
   "metadata": {},
   "outputs": [
    {
     "data": {
      "text/html": [
       "<div>\n",
       "<style scoped>\n",
       "    .dataframe tbody tr th:only-of-type {\n",
       "        vertical-align: middle;\n",
       "    }\n",
       "\n",
       "    .dataframe tbody tr th {\n",
       "        vertical-align: top;\n",
       "    }\n",
       "\n",
       "    .dataframe thead th {\n",
       "        text-align: right;\n",
       "    }\n",
       "</style>\n",
       "<table border=\"1\" class=\"dataframe\">\n",
       "  <thead>\n",
       "    <tr style=\"text-align: right;\">\n",
       "      <th></th>\n",
       "      <th>overall</th>\n",
       "      <th>potential</th>\n",
       "      <th>wage_eur</th>\n",
       "      <th>value_eur</th>\n",
       "      <th>age</th>\n",
       "    </tr>\n",
       "  </thead>\n",
       "  <tbody>\n",
       "    <tr>\n",
       "      <th>0</th>\n",
       "      <td>11.000000</td>\n",
       "      <td>10.565217</td>\n",
       "      <td>10.141631</td>\n",
       "      <td>5.020341</td>\n",
       "      <td>7.666667</td>\n",
       "    </tr>\n",
       "    <tr>\n",
       "      <th>1</th>\n",
       "      <td>10.782609</td>\n",
       "      <td>10.347826</td>\n",
       "      <td>8.711016</td>\n",
       "      <td>7.159616</td>\n",
       "      <td>6.925926</td>\n",
       "    </tr>\n",
       "    <tr>\n",
       "      <th>2</th>\n",
       "      <td>10.565217</td>\n",
       "      <td>10.130435</td>\n",
       "      <td>8.711016</td>\n",
       "      <td>3.319231</td>\n",
       "      <td>8.407407</td>\n",
       "    </tr>\n",
       "    <tr>\n",
       "      <th>3</th>\n",
       "      <td>10.565217</td>\n",
       "      <td>10.130435</td>\n",
       "      <td>8.711016</td>\n",
       "      <td>7.649329</td>\n",
       "      <td>5.814815</td>\n",
       "    </tr>\n",
       "    <tr>\n",
       "      <th>4</th>\n",
       "      <td>10.565217</td>\n",
       "      <td>10.130435</td>\n",
       "      <td>11.000000</td>\n",
       "      <td>7.468908</td>\n",
       "      <td>6.185185</td>\n",
       "    </tr>\n",
       "  </tbody>\n",
       "</table>\n",
       "</div>"
      ],
      "text/plain": [
       "     overall  potential   wage_eur  value_eur       age\n",
       "0  11.000000  10.565217  10.141631   5.020341  7.666667\n",
       "1  10.782609  10.347826   8.711016   7.159616  6.925926\n",
       "2  10.565217  10.130435   8.711016   3.319231  8.407407\n",
       "3  10.565217  10.130435   8.711016   7.649329  5.814815\n",
       "4  10.565217  10.130435  11.000000   7.468908  6.185185"
      ]
     },
     "execution_count": 11,
     "metadata": {},
     "output_type": "execute_result"
    }
   ],
   "source": [
    "data.head()"
   ]
  },
  {
   "cell_type": "markdown",
   "metadata": {},
   "source": [
    "**Writing a Pseudocode**"
   ]
  },
  {
   "cell_type": "markdown",
   "metadata": {},
   "source": [
    "**Further steps**\n",
    "\n",
    "1.Scale data to standardize values\n",
    "2.Initialize random centroids\n",
    "3.Get labels for each data point\n",
    "4.Create new centroids\n",
    "5.Plot the centroids\n",
    "6.Repeat 3-5 until the centroids stop changing"
   ]
  },
  {
   "cell_type": "code",
   "execution_count": 12,
   "metadata": {},
   "outputs": [],
   "source": [
    "data = ((data - data.min()) / (data.max() - data.min())) * 10 + 1"
   ]
  },
  {
   "cell_type": "code",
   "execution_count": 13,
   "metadata": {},
   "outputs": [
    {
     "data": {
      "text/html": [
       "<div>\n",
       "<style scoped>\n",
       "    .dataframe tbody tr th:only-of-type {\n",
       "        vertical-align: middle;\n",
       "    }\n",
       "\n",
       "    .dataframe tbody tr th {\n",
       "        vertical-align: top;\n",
       "    }\n",
       "\n",
       "    .dataframe thead th {\n",
       "        text-align: right;\n",
       "    }\n",
       "</style>\n",
       "<table border=\"1\" class=\"dataframe\">\n",
       "  <thead>\n",
       "    <tr style=\"text-align: right;\">\n",
       "      <th></th>\n",
       "      <th>overall</th>\n",
       "      <th>potential</th>\n",
       "      <th>wage_eur</th>\n",
       "      <th>value_eur</th>\n",
       "      <th>age</th>\n",
       "    </tr>\n",
       "  </thead>\n",
       "  <tbody>\n",
       "    <tr>\n",
       "      <th>0</th>\n",
       "      <td>11.000000</td>\n",
       "      <td>10.565217</td>\n",
       "      <td>10.141631</td>\n",
       "      <td>5.020341</td>\n",
       "      <td>7.666667</td>\n",
       "    </tr>\n",
       "    <tr>\n",
       "      <th>1</th>\n",
       "      <td>10.782609</td>\n",
       "      <td>10.347826</td>\n",
       "      <td>8.711016</td>\n",
       "      <td>7.159616</td>\n",
       "      <td>6.925926</td>\n",
       "    </tr>\n",
       "    <tr>\n",
       "      <th>2</th>\n",
       "      <td>10.565217</td>\n",
       "      <td>10.130435</td>\n",
       "      <td>8.711016</td>\n",
       "      <td>3.319231</td>\n",
       "      <td>8.407407</td>\n",
       "    </tr>\n",
       "    <tr>\n",
       "      <th>3</th>\n",
       "      <td>10.565217</td>\n",
       "      <td>10.130435</td>\n",
       "      <td>8.711016</td>\n",
       "      <td>7.649329</td>\n",
       "      <td>5.814815</td>\n",
       "    </tr>\n",
       "    <tr>\n",
       "      <th>4</th>\n",
       "      <td>10.565217</td>\n",
       "      <td>10.130435</td>\n",
       "      <td>11.000000</td>\n",
       "      <td>7.468908</td>\n",
       "      <td>6.185185</td>\n",
       "    </tr>\n",
       "  </tbody>\n",
       "</table>\n",
       "</div>"
      ],
      "text/plain": [
       "     overall  potential   wage_eur  value_eur       age\n",
       "0  11.000000  10.565217  10.141631   5.020341  7.666667\n",
       "1  10.782609  10.347826   8.711016   7.159616  6.925926\n",
       "2  10.565217  10.130435   8.711016   3.319231  8.407407\n",
       "3  10.565217  10.130435   8.711016   7.649329  5.814815\n",
       "4  10.565217  10.130435  11.000000   7.468908  6.185185"
      ]
     },
     "execution_count": 13,
     "metadata": {},
     "output_type": "execute_result"
    }
   ],
   "source": [
    "data.head()"
   ]
  },
  {
   "cell_type": "code",
   "execution_count": 14,
   "metadata": {},
   "outputs": [
    {
     "data": {
      "text/html": [
       "<div>\n",
       "<style scoped>\n",
       "    .dataframe tbody tr th:only-of-type {\n",
       "        vertical-align: middle;\n",
       "    }\n",
       "\n",
       "    .dataframe tbody tr th {\n",
       "        vertical-align: top;\n",
       "    }\n",
       "\n",
       "    .dataframe thead th {\n",
       "        text-align: right;\n",
       "    }\n",
       "</style>\n",
       "<table border=\"1\" class=\"dataframe\">\n",
       "  <thead>\n",
       "    <tr style=\"text-align: right;\">\n",
       "      <th></th>\n",
       "      <th>overall</th>\n",
       "      <th>potential</th>\n",
       "      <th>wage_eur</th>\n",
       "      <th>value_eur</th>\n",
       "      <th>age</th>\n",
       "    </tr>\n",
       "  </thead>\n",
       "  <tbody>\n",
       "    <tr>\n",
       "      <th>count</th>\n",
       "      <td>19165.000000</td>\n",
       "      <td>19165.000000</td>\n",
       "      <td>19165.000000</td>\n",
       "      <td>19165.000000</td>\n",
       "      <td>19165.000000</td>\n",
       "    </tr>\n",
       "    <tr>\n",
       "      <th>mean</th>\n",
       "      <td>5.078302</td>\n",
       "      <td>5.799998</td>\n",
       "      <td>1.243826</td>\n",
       "      <td>1.146473</td>\n",
       "      <td>4.403716</td>\n",
       "    </tr>\n",
       "    <tr>\n",
       "      <th>std</th>\n",
       "      <td>1.496262</td>\n",
       "      <td>1.323418</td>\n",
       "      <td>0.557253</td>\n",
       "      <td>0.392477</td>\n",
       "      <td>1.750932</td>\n",
       "    </tr>\n",
       "    <tr>\n",
       "      <th>min</th>\n",
       "      <td>1.000000</td>\n",
       "      <td>1.000000</td>\n",
       "      <td>1.000000</td>\n",
       "      <td>1.000000</td>\n",
       "      <td>1.000000</td>\n",
       "    </tr>\n",
       "    <tr>\n",
       "      <th>25%</th>\n",
       "      <td>4.043478</td>\n",
       "      <td>4.913043</td>\n",
       "      <td>1.014306</td>\n",
       "      <td>1.024022</td>\n",
       "      <td>2.851852</td>\n",
       "    </tr>\n",
       "    <tr>\n",
       "      <th>50%</th>\n",
       "      <td>5.130435</td>\n",
       "      <td>5.782609</td>\n",
       "      <td>1.071531</td>\n",
       "      <td>1.049796</td>\n",
       "      <td>4.333333</td>\n",
       "    </tr>\n",
       "    <tr>\n",
       "      <th>75%</th>\n",
       "      <td>6.000000</td>\n",
       "      <td>6.652174</td>\n",
       "      <td>1.214592</td>\n",
       "      <td>1.102634</td>\n",
       "      <td>5.814815</td>\n",
       "    </tr>\n",
       "    <tr>\n",
       "      <th>max</th>\n",
       "      <td>11.000000</td>\n",
       "      <td>11.000000</td>\n",
       "      <td>11.000000</td>\n",
       "      <td>11.000000</td>\n",
       "      <td>11.000000</td>\n",
       "    </tr>\n",
       "  </tbody>\n",
       "</table>\n",
       "</div>"
      ],
      "text/plain": [
       "            overall     potential      wage_eur     value_eur           age\n",
       "count  19165.000000  19165.000000  19165.000000  19165.000000  19165.000000\n",
       "mean       5.078302      5.799998      1.243826      1.146473      4.403716\n",
       "std        1.496262      1.323418      0.557253      0.392477      1.750932\n",
       "min        1.000000      1.000000      1.000000      1.000000      1.000000\n",
       "25%        4.043478      4.913043      1.014306      1.024022      2.851852\n",
       "50%        5.130435      5.782609      1.071531      1.049796      4.333333\n",
       "75%        6.000000      6.652174      1.214592      1.102634      5.814815\n",
       "max       11.000000     11.000000     11.000000     11.000000     11.000000"
      ]
     },
     "execution_count": 14,
     "metadata": {},
     "output_type": "execute_result"
    }
   ],
   "source": [
    "data.describe()"
   ]
  },
  {
   "cell_type": "code",
   "execution_count": 15,
   "metadata": {},
   "outputs": [],
   "source": [
    "def random_centroids(data, k):\n",
    "    centroids = []\n",
    "    for i in range(k):\n",
    "        centroid = data.apply(lambda x: float(x.sample()))\n",
    "        centroids.append(centroid)\n",
    "    return pd.concat(centroids, axis=1)"
   ]
  },
  {
   "cell_type": "code",
   "execution_count": 20,
   "metadata": {},
   "outputs": [],
   "source": [
    "centroids = random_centroids(data, 5)"
   ]
  },
  {
   "cell_type": "code",
   "execution_count": 21,
   "metadata": {},
   "outputs": [
    {
     "data": {
      "text/html": [
       "<div>\n",
       "<style scoped>\n",
       "    .dataframe tbody tr th:only-of-type {\n",
       "        vertical-align: middle;\n",
       "    }\n",
       "\n",
       "    .dataframe tbody tr th {\n",
       "        vertical-align: top;\n",
       "    }\n",
       "\n",
       "    .dataframe thead th {\n",
       "        text-align: right;\n",
       "    }\n",
       "</style>\n",
       "<table border=\"1\" class=\"dataframe\">\n",
       "  <thead>\n",
       "    <tr style=\"text-align: right;\">\n",
       "      <th></th>\n",
       "      <th>0</th>\n",
       "      <th>1</th>\n",
       "      <th>2</th>\n",
       "      <th>3</th>\n",
       "      <th>4</th>\n",
       "    </tr>\n",
       "  </thead>\n",
       "  <tbody>\n",
       "    <tr>\n",
       "      <th>overall</th>\n",
       "      <td>5.347826</td>\n",
       "      <td>3.608696</td>\n",
       "      <td>4.260870</td>\n",
       "      <td>6.434783</td>\n",
       "      <td>4.478261</td>\n",
       "    </tr>\n",
       "    <tr>\n",
       "      <th>potential</th>\n",
       "      <td>5.347826</td>\n",
       "      <td>5.782609</td>\n",
       "      <td>8.173913</td>\n",
       "      <td>5.347826</td>\n",
       "      <td>6.217391</td>\n",
       "    </tr>\n",
       "    <tr>\n",
       "      <th>wage_eur</th>\n",
       "      <td>1.271817</td>\n",
       "      <td>1.414878</td>\n",
       "      <td>1.042918</td>\n",
       "      <td>1.100143</td>\n",
       "      <td>1.014306</td>\n",
       "    </tr>\n",
       "    <tr>\n",
       "      <th>value_eur</th>\n",
       "      <td>1.035620</td>\n",
       "      <td>1.015001</td>\n",
       "      <td>1.066549</td>\n",
       "      <td>1.017578</td>\n",
       "      <td>1.051085</td>\n",
       "    </tr>\n",
       "    <tr>\n",
       "      <th>age</th>\n",
       "      <td>2.851852</td>\n",
       "      <td>3.592593</td>\n",
       "      <td>5.074074</td>\n",
       "      <td>5.814815</td>\n",
       "      <td>5.074074</td>\n",
       "    </tr>\n",
       "  </tbody>\n",
       "</table>\n",
       "</div>"
      ],
      "text/plain": [
       "                  0         1         2         3         4\n",
       "overall    5.347826  3.608696  4.260870  6.434783  4.478261\n",
       "potential  5.347826  5.782609  8.173913  5.347826  6.217391\n",
       "wage_eur   1.271817  1.414878  1.042918  1.100143  1.014306\n",
       "value_eur  1.035620  1.015001  1.066549  1.017578  1.051085\n",
       "age        2.851852  3.592593  5.074074  5.814815  5.074074"
      ]
     },
     "execution_count": 21,
     "metadata": {},
     "output_type": "execute_result"
    }
   ],
   "source": [
    "centroids"
   ]
  },
  {
   "cell_type": "markdown",
   "metadata": {},
   "source": [
    "Please refer the link to understand the lambda function I have used here.'https://www.analyticsvidhya.com/blog/2020/03/what-are-lambda-functions-in-python/'\n",
    "\n",
    "\n",
    "sample() function is used for random sampling without replacement."
   ]
  },
  {
   "cell_type": "code",
   "execution_count": 22,
   "metadata": {},
   "outputs": [],
   "source": [
    "def get_labels(data, centroids):\n",
    "    distances = centroids.apply(lambda x: np.sqrt(((data - x) ** 2).sum(axis=1)))\n",
    "    return distances.idxmin(axis=1)"
   ]
  },
  {
   "cell_type": "code",
   "execution_count": 23,
   "metadata": {},
   "outputs": [],
   "source": [
    "labels = get_labels(data, centroids)"
   ]
  },
  {
   "cell_type": "code",
   "execution_count": 24,
   "metadata": {},
   "outputs": [
    {
     "data": {
      "text/plain": [
       "3    7015\n",
       "1    5553\n",
       "0    3569\n",
       "4    2418\n",
       "2     610\n",
       "dtype: int64"
      ]
     },
     "execution_count": 24,
     "metadata": {},
     "output_type": "execute_result"
    }
   ],
   "source": [
    "labels.value_counts()"
   ]
  },
  {
   "cell_type": "code",
   "execution_count": 25,
   "metadata": {},
   "outputs": [],
   "source": [
    "def new_centroids(data, labels, k):\n",
    "    centroids = data.groupby(labels).apply(lambda x: np.exp(np.log(x).mean())).T\n",
    "    return centroids"
   ]
  },
  {
   "cell_type": "code",
   "execution_count": 26,
   "metadata": {},
   "outputs": [],
   "source": [
    "from sklearn.decomposition import PCA\n",
    "import matplotlib.pyplot as plt\n",
    "from IPython.display import clear_output"
   ]
  },
  {
   "cell_type": "code",
   "execution_count": 39,
   "metadata": {},
   "outputs": [],
   "source": [
    "def plot_clusters(data, labels, centroids, iteration):\n",
    "    pca = PCA(n_components=2)\n",
    "    data_2d = pca.fit_transform(data)\n",
    "    centroids_2d = pca.transform(centroids.T)\n",
    "    clear_output(wait=True)\n",
    "    plt.scatter(x=data_2d[:,0], y=data_2d[:,1], c=labels)\n",
    "    plt.scatter(x=centroids_2d[:,0], y=centroids_2d[:,1])\n",
    "    plt.show()"
   ]
  },
  {
   "cell_type": "code",
   "execution_count": 42,
   "metadata": {},
   "outputs": [
    {
     "data": {
      "image/png": "[encoded data removed]",
      "text/plain": [
       "<Figure size 432x288 with 1 Axes>"
      ]
     },
     "metadata": {
      "needs_background": "light"
     },
     "output_type": "display_data"
    }
   ],
   "source": [
    "max_iterations = 100\n",
    "centroid_count = 5\n",
    "\n",
    "centroids = random_centroids(data, centroid_count)\n",
    "old_centroids = pd.DataFrame()\n",
    "iteration = 1\n",
    "\n",
    "while iteration < max_iterations and not centroids.equals(old_centroids):\n",
    "    old_centroids = centroids\n",
    "    \n",
    "    labels = get_labels(data, centroids)\n",
    "    centroids = new_centroids(data, labels, centroid_count)\n",
    "    plot_clusters(data, labels, centroids, iteration)\n",
    "    iteration += 1"
   ]
  },
  {
   "cell_type": "markdown",
   "metadata": {},
   "source": [
    "You can check the above section for different number of iterations and centriod counts. "
   ]
  },
  {
   "cell_type": "code",
   "execution_count": 43,
   "metadata": {},
   "outputs": [
    {
     "data": {
      "text/html": [
       "<div>\n",
       "<style scoped>\n",
       "    .dataframe tbody tr th:only-of-type {\n",
       "        vertical-align: middle;\n",
       "    }\n",
       "\n",
       "    .dataframe tbody tr th {\n",
       "        vertical-align: top;\n",
       "    }\n",
       "\n",
       "    .dataframe thead th {\n",
       "        text-align: right;\n",
       "    }\n",
       "</style>\n",
       "<table border=\"1\" class=\"dataframe\">\n",
       "  <thead>\n",
       "    <tr style=\"text-align: right;\">\n",
       "      <th></th>\n",
       "      <th>0</th>\n",
       "      <th>1</th>\n",
       "      <th>2</th>\n",
       "      <th>3</th>\n",
       "      <th>4</th>\n",
       "    </tr>\n",
       "  </thead>\n",
       "  <tbody>\n",
       "    <tr>\n",
       "      <th>overall</th>\n",
       "      <td>4.597603</td>\n",
       "      <td>4.526949</td>\n",
       "      <td>6.975166</td>\n",
       "      <td>5.797681</td>\n",
       "      <td>2.636154</td>\n",
       "    </tr>\n",
       "    <tr>\n",
       "      <th>potential</th>\n",
       "      <td>6.476281</td>\n",
       "      <td>4.517441</td>\n",
       "      <td>7.308451</td>\n",
       "      <td>5.372644</td>\n",
       "      <td>4.751423</td>\n",
       "    </tr>\n",
       "    <tr>\n",
       "      <th>wage_eur</th>\n",
       "      <td>1.076181</td>\n",
       "      <td>1.060743</td>\n",
       "      <td>1.694232</td>\n",
       "      <td>1.200367</td>\n",
       "      <td>1.017297</td>\n",
       "    </tr>\n",
       "    <tr>\n",
       "      <th>value_eur</th>\n",
       "      <td>1.067777</td>\n",
       "      <td>1.035331</td>\n",
       "      <td>1.454851</td>\n",
       "      <td>1.066750</td>\n",
       "      <td>1.014497</td>\n",
       "    </tr>\n",
       "    <tr>\n",
       "      <th>age</th>\n",
       "      <td>2.738321</td>\n",
       "      <td>4.890977</td>\n",
       "      <td>4.375977</td>\n",
       "      <td>6.747931</td>\n",
       "      <td>2.451591</td>\n",
       "    </tr>\n",
       "  </tbody>\n",
       "</table>\n",
       "</div>"
      ],
      "text/plain": [
       "                  0         1         2         3         4\n",
       "overall    4.597603  4.526949  6.975166  5.797681  2.636154\n",
       "potential  6.476281  4.517441  7.308451  5.372644  4.751423\n",
       "wage_eur   1.076181  1.060743  1.694232  1.200367  1.017297\n",
       "value_eur  1.067777  1.035331  1.454851  1.066750  1.014497\n",
       "age        2.738321  4.890977  4.375977  6.747931  2.451591"
      ]
     },
     "execution_count": 43,
     "metadata": {},
     "output_type": "execute_result"
    }
   ],
   "source": [
    "centroids"
   ]
  },
  {
   "cell_type": "code",
   "execution_count": 44,
   "metadata": {},
   "outputs": [
    {
     "data": {
      "text/plain": [
       "0    4785\n",
       "1    4393\n",
       "3    3890\n",
       "2    3601\n",
       "4    2496\n",
       "dtype: int64"
      ]
     },
     "execution_count": 44,
     "metadata": {},
     "output_type": "execute_result"
    }
   ],
   "source": [
    "labels.value_counts()"
   ]
  },
  {
   "cell_type": "code",
   "execution_count": 52,
   "metadata": {},
   "outputs": [
    {
     "data": {
      "text/html": [
       "<div>\n",
       "<style scoped>\n",
       "    .dataframe tbody tr th:only-of-type {\n",
       "        vertical-align: middle;\n",
       "    }\n",
       "\n",
       "    .dataframe tbody tr th {\n",
       "        vertical-align: top;\n",
       "    }\n",
       "\n",
       "    .dataframe thead th {\n",
       "        text-align: right;\n",
       "    }\n",
       "</style>\n",
       "<table border=\"1\" class=\"dataframe\">\n",
       "  <thead>\n",
       "    <tr style=\"text-align: right;\">\n",
       "      <th></th>\n",
       "      <th>short_name</th>\n",
       "      <th>overall</th>\n",
       "      <th>potential</th>\n",
       "      <th>wage_eur</th>\n",
       "      <th>value_eur</th>\n",
       "      <th>age</th>\n",
       "    </tr>\n",
       "  </thead>\n",
       "  <tbody>\n",
       "    <tr>\n",
       "      <th>3568</th>\n",
       "      <td>Sebas Couteira</td>\n",
       "      <td>72</td>\n",
       "      <td>72</td>\n",
       "      <td>9000.0</td>\n",
       "      <td>2800000.0</td>\n",
       "      <td>21</td>\n",
       "    </tr>\n",
       "    <tr>\n",
       "      <th>3570</th>\n",
       "      <td>Gustavo Lobateiro</td>\n",
       "      <td>72</td>\n",
       "      <td>72</td>\n",
       "      <td>14000.0</td>\n",
       "      <td>2800000.0</td>\n",
       "      <td>21</td>\n",
       "    </tr>\n",
       "    <tr>\n",
       "      <th>3574</th>\n",
       "      <td>Teixe Gaúcho</td>\n",
       "      <td>72</td>\n",
       "      <td>72</td>\n",
       "      <td>8000.0</td>\n",
       "      <td>2400000.0</td>\n",
       "      <td>21</td>\n",
       "    </tr>\n",
       "    <tr>\n",
       "      <th>3581</th>\n",
       "      <td>Vanderleiton</td>\n",
       "      <td>72</td>\n",
       "      <td>72</td>\n",
       "      <td>12000.0</td>\n",
       "      <td>2400000.0</td>\n",
       "      <td>21</td>\n",
       "    </tr>\n",
       "    <tr>\n",
       "      <th>3586</th>\n",
       "      <td>Pimentiscinho</td>\n",
       "      <td>72</td>\n",
       "      <td>72</td>\n",
       "      <td>11000.0</td>\n",
       "      <td>2500000.0</td>\n",
       "      <td>21</td>\n",
       "    </tr>\n",
       "  </tbody>\n",
       "</table>\n",
       "</div>"
      ],
      "text/plain": [
       "             short_name  overall  potential  wage_eur  value_eur  age\n",
       "3568     Sebas Couteira       72         72    9000.0  2800000.0   21\n",
       "3570  Gustavo Lobateiro       72         72   14000.0  2800000.0   21\n",
       "3574       Teixe Gaúcho       72         72    8000.0  2400000.0   21\n",
       "3581       Vanderleiton       72         72   12000.0  2400000.0   21\n",
       "3586      Pimentiscinho       72         72   11000.0  2500000.0   21"
      ]
     },
     "execution_count": 52,
     "metadata": {},
     "output_type": "execute_result"
    }
   ],
   "source": [
    "players[labels == 0][[\"short_name\"] + features].head()"
   ]
  },
  {
   "cell_type": "code",
   "execution_count": 46,
   "metadata": {},
   "outputs": [],
   "source": [
    "from sklearn.cluster import KMeans"
   ]
  },
  {
   "cell_type": "code",
   "execution_count": 50,
   "metadata": {},
   "outputs": [
    {
     "data": {
      "text/plain": [
       "KMeans(algorithm='auto', copy_x=True, init='k-means++', max_iter=300,\n",
       "    n_clusters=5, n_init=10, n_jobs=1, precompute_distances='auto',\n",
       "    random_state=None, tol=0.0001, verbose=0)"
      ]
     },
     "execution_count": 50,
     "metadata": {},
     "output_type": "execute_result"
    }
   ],
   "source": [
    "kmeans = KMeans(5)\n",
    "kmeans.fit(data)"
   ]
  },
  {
   "cell_type": "code",
   "execution_count": 51,
   "metadata": {},
   "outputs": [
    {
     "data": {
      "text/html": [
       "<div>\n",
       "<style scoped>\n",
       "    .dataframe tbody tr th:only-of-type {\n",
       "        vertical-align: middle;\n",
       "    }\n",
       "\n",
       "    .dataframe tbody tr th {\n",
       "        vertical-align: top;\n",
       "    }\n",
       "\n",
       "    .dataframe thead th {\n",
       "        text-align: right;\n",
       "    }\n",
       "</style>\n",
       "<table border=\"1\" class=\"dataframe\">\n",
       "  <thead>\n",
       "    <tr style=\"text-align: right;\">\n",
       "      <th></th>\n",
       "      <th>0</th>\n",
       "      <th>1</th>\n",
       "      <th>2</th>\n",
       "      <th>3</th>\n",
       "      <th>4</th>\n",
       "    </tr>\n",
       "  </thead>\n",
       "  <tbody>\n",
       "    <tr>\n",
       "      <th>overall</th>\n",
       "      <td>4.576454</td>\n",
       "      <td>7.789039</td>\n",
       "      <td>3.220967</td>\n",
       "      <td>6.181560</td>\n",
       "      <td>5.388787</td>\n",
       "    </tr>\n",
       "    <tr>\n",
       "      <th>potential</th>\n",
       "      <td>4.402194</td>\n",
       "      <td>7.997686</td>\n",
       "      <td>5.293225</td>\n",
       "      <td>5.781084</td>\n",
       "      <td>6.680427</td>\n",
       "    </tr>\n",
       "    <tr>\n",
       "      <th>wage_eur</th>\n",
       "      <td>1.057091</td>\n",
       "      <td>2.439628</td>\n",
       "      <td>1.024005</td>\n",
       "      <td>1.298292</td>\n",
       "      <td>1.169174</td>\n",
       "    </tr>\n",
       "    <tr>\n",
       "      <th>value_eur</th>\n",
       "      <td>1.030606</td>\n",
       "      <td>2.023357</td>\n",
       "      <td>1.021687</td>\n",
       "      <td>1.096343</td>\n",
       "      <td>1.108341</td>\n",
       "    </tr>\n",
       "    <tr>\n",
       "      <th>age</th>\n",
       "      <td>5.435237</td>\n",
       "      <td>4.734644</td>\n",
       "      <td>2.607642</td>\n",
       "      <td>6.624894</td>\n",
       "      <td>3.371113</td>\n",
       "    </tr>\n",
       "  </tbody>\n",
       "</table>\n",
       "</div>"
      ],
      "text/plain": [
       "                  0         1         2         3         4\n",
       "overall    4.576454  7.789039  3.220967  6.181560  5.388787\n",
       "potential  4.402194  7.997686  5.293225  5.781084  6.680427\n",
       "wage_eur   1.057091  2.439628  1.024005  1.298292  1.169174\n",
       "value_eur  1.030606  2.023357  1.021687  1.096343  1.108341\n",
       "age        5.435237  4.734644  2.607642  6.624894  3.371113"
      ]
     },
     "execution_count": 51,
     "metadata": {},
     "output_type": "execute_result"
    }
   ],
   "source": [
    "pd.DataFrame(kmeans.cluster_centers_, columns=features).T"
   ]
  },
  {
   "cell_type": "code",
   "execution_count": null,
   "metadata": {},
   "outputs": [],
   "source": []
  }
 ],
 "metadata": {
  "kernelspec": {
   "display_name": "Python 2",
   "language": "python",
   "name": "python2"
  },
  "language_info": {
   "codemirror_mode": {
    "name": "ipython",
    "version": 2
   },
   "file_extension": ".py",
   "mimetype": "text/x-python",
   "name": "python",
   "nbconvert_exporter": "python",
   "pygments_lexer": "ipython2",
   "version": "2.7.15"
  }
 },
 "nbformat": 4,
 "nbformat_minor": 2
}
